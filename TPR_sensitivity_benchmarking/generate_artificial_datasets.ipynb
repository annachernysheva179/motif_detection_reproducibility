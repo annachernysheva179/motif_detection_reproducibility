{
 "cells": [
  {
   "cell_type": "code",
   "execution_count": null,
   "id": "c5f5b189",
   "metadata": {},
   "outputs": [],
   "source": [
    "import pyreadr\n",
    "import pandas as pd\n",
    "import numpy as np\n",
    "from matplotlib import pyplot as plt\n",
    "from Bio import SeqIO\n",
    "import sys\n",
    "import itertools\n",
    "from tqdm import tqdm\n",
    "import random\n",
    "import re\n",
    "import scipy\n",
    "import pickle\n",
    "import os\n",
    "import time\n",
    "from sklearn.model_selection import train_test_split\n",
    "sys.path.insert(0, \"../../suffix_array/\")\n",
    "import suffix_array"
   ]
  },
  {
   "cell_type": "markdown",
   "id": "6e955d80-b165-4943-bdde-a7581532e60e",
   "metadata": {},
   "source": [
    "## Create suffix array"
   ]
  },
  {
   "cell_type": "code",
   "execution_count": 9,
   "id": "9ab28c24-d72d-45a8-9f91-debde8edb2e3",
   "metadata": {},
   "outputs": [],
   "source": [
    "comp_trans = str.maketrans(\"ACGTMRWSYKVHDBN\", \"TGCAKYWSRMBDHVN\")\n",
    "fp = f\"../samples/Riv19/diff/Riv19_difference.RDS\"\n",
    "result = pyreadr.read_r(fp)\n",
    "df = result[None]"
   ]
  },
  {
   "cell_type": "code",
   "execution_count": 12,
   "id": "d4c73898-fb56-4fd8-8b47-95916bc5ea7a",
   "metadata": {},
   "outputs": [],
   "source": [
    "df['position'] = df['position'].astype(int) - 1 + 3 # convert to 0-based indexing\n",
    "df.loc[df.dir == 'rev', 'position'] += 1\n",
    "df = df.set_index(df.position)"
   ]
  },
  {
   "cell_type": "code",
   "execution_count": 14,
   "id": "8767ed11-cda2-47c5-8a80-200160803a43",
   "metadata": {},
   "outputs": [
    {
     "name": "stdout",
     "output_type": "stream",
     "text": [
      "NZ_CP090506.1\n",
      "2606266\n"
     ]
    }
   ],
   "source": [
    "# read genome sequence\n",
    "fp = f\"../samples/Riv19/ref_genome/Riv19.fasta\"\n",
    "for record in SeqIO.parse(fp, \"fasta\"):\n",
    "    print(record.id)\n",
    "    seq = record.seq\n",
    "    print(len(seq))\n",
    "    sa = suffix_array.get_suffix_array(record.id, seq)"
   ]
  },
  {
   "cell_type": "markdown",
   "id": "86170e25",
   "metadata": {},
   "source": [
    "# Generate artificial datasets"
   ]
  },
  {
   "cell_type": "code",
   "execution_count": null,
   "id": "46e59ff2",
   "metadata": {},
   "outputs": [],
   "source": [
    "def overlaps(a, b):\n",
    "    \"\"\"\n",
    "    Return the amount of overlap, in bp\n",
    "    between a and b.\n",
    "    If >0, the number of bp of overlap\n",
    "    If 0,  they are book-ended.\n",
    "    If <0, the distance in bp between them\n",
    "    \"\"\"\n",
    "    return min(a[1], b[1]) - max(a[0], b[0])"
   ]
  },
  {
   "cell_type": "code",
   "execution_count": null,
   "id": "9218d68d",
   "metadata": {},
   "outputs": [],
   "source": [
    "# select TP\n",
    "positions = []\n",
    "positions_rev_compl = []\n",
    "for motif in [\"TTCGAA\",\"GACNNNNNNGTC\"]:\n",
    "    positions.extend(suffix_array.find_motif(motif, sa, poi=4)[0])\n",
    "    positions_rev_compl.extend(suffix_array.find_motif(motif, sa, poi=4)[1])\n",
    "\n",
    "positions_filtered = []\n",
    "positions_rev_compl_filtered = []\n",
    "for pos in positions:\n",
    "    flag = True\n",
    "    for other in positions:\n",
    "        if pos != other and overlaps([other-22,other+23],[pos-22,pos+23]) > 0:\n",
    "            flag = False\n",
    "            break\n",
    "    if flag:\n",
    "        positions_filtered.append(pos)\n",
    "for pos in positions_rev_compl:\n",
    "    flag = True\n",
    "    for other in positions_rev_compl:\n",
    "        if pos != other and overlaps([other-22,other+23],[pos-22,pos+23]) > 0:\n",
    "            flag = False\n",
    "            break\n",
    "    if flag:\n",
    "        positions_rev_compl_filtered.append(pos)"
   ]
  },
  {
   "cell_type": "code",
   "execution_count": null,
   "id": "f3a92f7e",
   "metadata": {},
   "outputs": [],
   "source": [
    "seq_TP_all = list()\n",
    "for pos in positions_filtered:\n",
    "    seq_TP_all.append(str(record[pos-22:pos+23].seq))\n",
    "for pos in positions_rev_compl_filtered:\n",
    "    seq_TP_all.append(str(record[pos-22:pos+23].reverse_complement().seq))\n",
    "seq_TP_all = list(set(seq_TP_all))"
   ]
  },
  {
   "cell_type": "code",
   "execution_count": null,
   "id": "86b0bd4b",
   "metadata": {},
   "outputs": [],
   "source": [
    "TP_num = len(seq_TP_all)"
   ]
  },
  {
   "cell_type": "code",
   "execution_count": null,
   "id": "c5be9579",
   "metadata": {},
   "outputs": [],
   "source": [
    "seq_TP_train, seq_TP_test = train_test_split(seq_TP_all, test_size=0.2)\n",
    "random.shuffle(seq_TP_train)\n",
    "random.shuffle(seq_TP_test)"
   ]
  },
  {
   "cell_type": "code",
   "execution_count": null,
   "id": "1254b46e",
   "metadata": {},
   "outputs": [],
   "source": [
    "# write TP\n",
    "f1 = open(f\"artificial_Riv19/Riv19_TP_train.fasta\", \"w\")\n",
    "for seq in seq_TP_train:\n",
    "    f1.write(f\">\\n{seq}\\n\")\n",
    "f2 = open(f\"artificial_Riv19/Riv19_TP_test.fasta\", \"w\")\n",
    "for seq in seq_TP_test:\n",
    "    f2.write(f\">\\n{seq}\\n\")\n",
    "f1.close()\n",
    "f2.close()"
   ]
  },
  {
   "cell_type": "code",
   "execution_count": null,
   "id": "78c757a8",
   "metadata": {},
   "outputs": [],
   "source": [
    "FP_count = 0\n",
    "regex1 = r\"TTCGAA\"\n",
    "regex2 = r\"GAC......GTC\"\n",
    "seq_FP_test = list()\n",
    "while (FP_count < len(seq_TP_test)):\n",
    "    for seq in seq_TP_all:\n",
    "        FP_count += 1\n",
    "        l = list(seq)\n",
    "        while len(re.findall(re.compile(regex1, re.IGNORECASE), ''.join(l))) > 0 or len(re.findall(re.compile(regex2, re.IGNORECASE), ''.join(l))) > 0:\n",
    "            random.shuffle(l)\n",
    "        seq_FP_test.append(''.join(l))\n",
    "        if FP_count == len(seq_TP_test):\n",
    "            break"
   ]
  },
  {
   "cell_type": "code",
   "execution_count": null,
   "id": "f6db3d58",
   "metadata": {},
   "outputs": [],
   "source": [
    "# write FP\n",
    "f3 = open(f\"../artificial_Riv19_new/Riv19_FP_test.fasta\", \"w\")\n",
    "for seq in seq_FP_test:\n",
    "    f3.write(f\">\\n{seq}\\n\")\n",
    "f3.close()"
   ]
  },
  {
   "cell_type": "code",
   "execution_count": null,
   "id": "0f28356f",
   "metadata": {},
   "outputs": [],
   "source": [
    "seq_FP_train = list()\n",
    "max_FP_count = len(seq_TP_train) * 10\n",
    "FP_count = 0\n",
    "regex1 = r\"TTCGAA\"\n",
    "regex2 = r\"GAC......GTC\"\n",
    "seq_FP_train = list()\n",
    "while (FP_count < max_FP_count):\n",
    "    for seq in seq_TP_all:\n",
    "        FP_count += 1\n",
    "        l = list(seq)\n",
    "        while len(re.findall(re.compile(regex1, re.IGNORECASE), ''.join(l))) > 0 or \\\n",
    "              len(re.findall(re.compile(regex2, re.IGNORECASE), ''.join(l))) > 0 or \\\n",
    "              ''.join(l) in seq_FP_test:\n",
    "            random.shuffle(l)\n",
    "        seq_FP_train.append(''.join(l))\n",
    "        if FP_count == max_FP_count:\n",
    "            break"
   ]
  },
  {
   "cell_type": "code",
   "execution_count": null,
   "id": "025b6a53",
   "metadata": {},
   "outputs": [],
   "source": [
    "def create_TPR_file_train(fraction, seq_TP_train, seq_FP_train_all):\n",
    "    assert(fraction <= 1.0)\n",
    "\n",
    "    FP_num = int(np.round(TP_num / fraction - TP_num))\n",
    "    print(f\"|TP|={TP_num}, |FP|={FP_num}, |P|={TP_num+FP_num}, |FP|/|P| = {FP_num/(TP_num+FP_num)}, |TP|/|P| = {TP_num/(TP_num+FP_num)}\")\n",
    "\n",
    "    seq_FP_train = seq_FP_train_all[:FP_num]\n",
    "\n",
    "    f_train = open(f\"artificial_Riv19/Riv19_TPR_{fraction}_train.fasta\", \"w\")\n",
    "    seq_train = seq_TP_train + seq_FP_train\n",
    "    random.shuffle(seq_train)\n",
    "    for seq in seq_train:\n",
    "        f_train.write(f\">\\n{seq}\\n\")\n",
    "    f_train.close()"
   ]
  },
  {
   "cell_type": "code",
   "execution_count": null,
   "id": "165e1557",
   "metadata": {},
   "outputs": [],
   "source": [
    "for fraction in [0.9,0.8,0.7,0.6,0.5,0.4,0.3,0.2,0.1]:\n",
    "    create_TPR_file_train(fraction, seq_TP_train, seq_FP_train)"
   ]
  }
 ],
 "metadata": {
  "kernelspec": {
   "display_name": "comp-methods",
   "language": "python",
   "name": "comp-methods-env"
  },
  "language_info": {
   "codemirror_mode": {
    "name": "ipython",
    "version": 3
   },
   "file_extension": ".py",
   "mimetype": "text/x-python",
   "name": "python",
   "nbconvert_exporter": "python",
   "pygments_lexer": "ipython3",
   "version": "3.8.13"
  }
 },
 "nbformat": 4,
 "nbformat_minor": 5
}
