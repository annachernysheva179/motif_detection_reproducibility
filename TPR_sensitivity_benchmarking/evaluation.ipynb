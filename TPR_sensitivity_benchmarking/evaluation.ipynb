{
 "cells": [
  {
   "cell_type": "markdown",
   "id": "ef763bcf",
   "metadata": {},
   "source": [
    "## TP Dataset Split"
   ]
  },
  {
   "cell_type": "code",
   "execution_count": null,
   "id": "d500b480",
   "metadata": {},
   "outputs": [],
   "source": [
    "import os\n",
    "import pandas as pd\n",
    "from Bio import motifs\n",
    "from Bio import SeqIO\n",
    "import matplotlib.pyplot as plt\n",
    "import re\n",
    "plt.rcParams.update({'font.size': 14})"
   ]
  },
  {
   "cell_type": "code",
   "execution_count": null,
   "id": "74c5b2cd",
   "metadata": {},
   "outputs": [],
   "source": [
    "def get_statistics(p_file, n_file, motif_list):\n",
    "    P = 0\n",
    "    TP = 0\n",
    "    N = 0\n",
    "    FP = 0\n",
    "    for rec in SeqIO.parse(p_file, \"fasta\"):\n",
    "        found = False\n",
    "        for motif in motif_list:\n",
    "            regex = r\"\"\n",
    "            for cc in motif:\n",
    "                regex += f\"[{iupac[cc]}]\"\n",
    "            if len(re.findall(re.compile(regex, re.IGNORECASE), str(rec.seq))) > 0:\n",
    "                found = True\n",
    "                break\n",
    "        if found:\n",
    "            TP += 1\n",
    "        P += 1\n",
    "    for rec in SeqIO.parse(n_file, \"fasta\"):\n",
    "        found = False\n",
    "        for motif in motif_list:\n",
    "            regex = r\"\"\n",
    "            for cc in motif:\n",
    "                regex += f\"[{iupac[cc]}]\"\n",
    "            if len(re.findall(re.compile(regex, re.IGNORECASE), str(rec.seq))) > 0:\n",
    "                found = True\n",
    "                break\n",
    "        if found:\n",
    "            FP += 1\n",
    "        N += 1\n",
    "    # ACC, TPR, TNR\n",
    "    TN = (N-FP)\n",
    "    ACC = (TP+TN) / (P+N)\n",
    "    TPR = TP / P\n",
    "    TNR = 1.0\n",
    "    if (N > 0):\n",
    "        TNR = TN / N\n",
    "    print(f'P={P}, TP={TP}, N={N}, FP={FP}')\n",
    "    return ACC, TPR, TNR"
   ]
  },
  {
   "cell_type": "code",
   "execution_count": null,
   "id": "d80551c3",
   "metadata": {},
   "outputs": [],
   "source": [
    "p_file = 'artificial_Riv19/Riv19_TP_test.fasta'\n",
    "n_file = 'artificial_Riv19/Riv19_FP_test.fasta'"
   ]
  },
  {
   "cell_type": "code",
   "execution_count": null,
   "id": "e3584b88",
   "metadata": {},
   "outputs": [],
   "source": [
    "filename_list = list()\n",
    "pwm_postprocess = list()\n",
    "acc_list = list()\n",
    "tpr_list = list()\n",
    "tnr_list = list()\n",
    "\n",
    "for filename in os.listdir('artificial_Riv19/'):\n",
    "    if filename == p_file or filename == n_file:\n",
    "        continue\n",
    "    filename_list.append(filename)\n",
    "    motif_list = pd.read_csv('../../artificial_Riv19_motifs/cisFinder/cisFinder_' + filename[:-6] + '.csv').motif\n",
    "\n",
    "    acc, tpr, tnr = get_statistics(p_file, n_file, motif_list)\n",
    "    acc_list.append(acc)\n",
    "    tpr_list.append(tpr)\n",
    "    tnr_list.append(tnr)\n",
    "\n",
    "df_cisFinder = pd.DataFrame({'filename' : filename_list,\n",
    "                             'TPR in Dataset' : [0.1,0.2,0.3,0.4,0.5,0.6,0.7,0.8,0.9,1.0],\n",
    "                             'Accuracy' : acc_list,\n",
    "                             'TPR' : tpr_list,\n",
    "                             'TNR' : tnr_list})"
   ]
  },
  {
   "cell_type": "code",
   "execution_count": null,
   "id": "f26384a9",
   "metadata": {},
   "outputs": [],
   "source": [
    "filename_list = list()\n",
    "pwm_postprocess = list()\n",
    "acc_list = list()\n",
    "tpr_list = list()\n",
    "tnr_list = list()\n",
    "\n",
    "for filename in os.listdir('artificial_Riv19/'):\n",
    "    if filename == p_file or filename == n_file:\n",
    "        continue\n",
    "    filename_list.append(filename)\n",
    "    motif_list = pd.read_csv('../../artificial_Riv19_motifs/MEME_ChIP/MEME_ChIP_' + filename[:-6] + '.csv').motif\n",
    "\n",
    "    acc, tpr, tnr = get_statistics(p_file, n_file, motif_list)\n",
    "    acc_list.append(acc)\n",
    "    tpr_list.append(tpr)\n",
    "    tnr_list.append(tnr)\n",
    "\n",
    "df_MEME_ChIP = pd.DataFrame({'filename' : filename_list,\n",
    "                             'TPR in Dataset' : [0.1,0.2,0.3,0.4,0.5,0.6,0.7,0.8,0.9,1.0],\n",
    "                             'Accuracy' : acc_list,\n",
    "                             'TPR' : tpr_list,\n",
    "                             'TNR' : tnr_list})"
   ]
  },
  {
   "cell_type": "code",
   "execution_count": null,
   "id": "983502d1",
   "metadata": {},
   "outputs": [],
   "source": [
    "filename_list = list()\n",
    "pwm_postprocess = list()\n",
    "acc_list = list()\n",
    "tpr_list = list()\n",
    "tnr_list = list()\n",
    "\n",
    "for filename in os.listdir('artificial_Riv19/'):\n",
    "    if filename == p_file or filename == n_file:\n",
    "        continue\n",
    "    filename_list.append(filename)\n",
    "    motif_list = pd.read_csv('../../artificial_Riv19_motifs/vCNN/vCNN_' + filename[:-6] + '.csv').motif\n",
    "\n",
    "    acc, tpr, tnr = get_statistics(p_file, n_file, motif_list)\n",
    "    acc_list.append(acc)\n",
    "    tpr_list.append(tpr)\n",
    "    tnr_list.append(tnr)\n",
    "\n",
    "df_vCNN = pd.DataFrame({'filename' : filename_list,\n",
    "                        'TPR in Dataset' : [0.1,0.2,0.3,0.4,0.5,0.6,0.7,0.8,0.9,1.0],\n",
    "                        'Accuracy' : acc_list,\n",
    "                        'TPR' : tpr_list,\n",
    "                        'TNR' : tnr_list})"
   ]
  },
  {
   "cell_type": "code",
   "execution_count": null,
   "id": "250d614e",
   "metadata": {},
   "outputs": [],
   "source": [
    "ax = df_cisFinder.plot(x = 'TPR in Dataset', y=['Accuracy', 'TPR', 'TNR'],zorder=10, color=['C0','C2','C1'])\n",
    "ax.set_xlim(-0.02,1.02)\n",
    "ax.set_ylim(-0.02,1.02)\n",
    "ax.set_xlabel('TPR in Training Dataset')\n",
    "ax.set_title('cisFinder')\n",
    "legend = ax.legend()\n",
    "legend.remove()\n",
    "plt.show()"
   ]
  },
  {
   "cell_type": "code",
   "execution_count": null,
   "id": "8b44804d",
   "metadata": {},
   "outputs": [],
   "source": [
    "ax = df_MEME_ChIP.plot(x = 'TPR in Dataset', y=['Accuracy', 'TPR', 'TNR'],zorder=10, color=['C0','C2','C1'])\n",
    "ax.set_xlim(-0.02,1.02)\n",
    "ax.set_ylim(-0.02,1.02)\n",
    "ax.set_xlabel('TPR in Training Dataset')\n",
    "ax.set_title('MEME-ChIP')\n",
    "legend = ax.legend()\n",
    "legend.remove()\n",
    "plt.show()"
   ]
  },
  {
   "cell_type": "code",
   "execution_count": null,
   "id": "3dd4ed72",
   "metadata": {},
   "outputs": [],
   "source": [
    "ax = df_vCNN.plot(x = 'TPR in Dataset', y=['Accuracy', 'TPR', 'TNR'],zorder=10, color=['C0','C2','C1'])\n",
    "ax.set_xlim(-0.02,1.02)\n",
    "ax.set_ylim(-0.02,1.02)\n",
    "ax.set_xlabel('TPR in Training Dataset')\n",
    "ax.set_title('vCNN')\n",
    "ax.legend(loc='center left', bbox_to_anchor=(1, 0.5),labels=['Accuracy', 'TPR', 'TNR'], title=\"Performance on\\n Test Dataset:\")\n",
    "plt.show()"
   ]
  }
 ],
 "metadata": {
  "kernelspec": {
   "display_name": "Python 3 (ipykernel)",
   "language": "python",
   "name": "python3"
  },
  "language_info": {
   "codemirror_mode": {
    "name": "ipython",
    "version": 3
   },
   "file_extension": ".py",
   "mimetype": "text/x-python",
   "name": "python",
   "nbconvert_exporter": "python",
   "pygments_lexer": "ipython3",
   "version": "3.8.13"
  }
 },
 "nbformat": 4,
 "nbformat_minor": 5
}
